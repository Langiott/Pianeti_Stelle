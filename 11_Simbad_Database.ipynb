{
 "cells": [
  {
   "cell_type": "code",
   "execution_count": 1,
   "id": "4fa2f899-1cbe-4ca5-88ae-6746bcb831f8",
   "metadata": {},
   "outputs": [
    {
     "name": "stdout",
     "output_type": "stream",
     "text": [
      " MAIN_ID        RA           DEC      RA_PREC DEC_PREC ... COO_QUAL COO_WAVELENGTH     COO_BIBCODE     SCRIPT_NUMBER_ID\n",
      "             \"h:m:s\"       \"d:m:s\"                     ...                                                             \n",
      "--------- ------------- ------------- ------- -------- ... -------- -------------- ------------------- ----------------\n",
      "HD 209458 22 03 10.7727 +18 53 03.549      14       14 ...        A              O 2020yCat.1350....0G                1\n"
     ]
    }
   ],
   "source": [
    "from astroquery.simbad import Simbad\n",
    "\n",
    "# Crea un'istanza di Simbad\n",
    "simbad = Simbad()\n",
    "\n",
    "# Esegui una query per cercare informazioni su un oggetto specifico\n",
    "result = simbad.query_object(\"HD 209458\")  # Esempio di stella con un esopianeta noto\n",
    "\n",
    "# Mostra i risultati\n",
    "print(result)\n"
   ]
  },
  {
   "cell_type": "code",
   "execution_count": null,
   "id": "e2e497e8-3dfc-42b4-ae3f-826fa98f0c70",
   "metadata": {},
   "outputs": [],
   "source": []
  }
 ],
 "metadata": {
  "kernelspec": {
   "display_name": "Python 3 (ipykernel)",
   "language": "python",
   "name": "python3"
  },
  "language_info": {
   "codemirror_mode": {
    "name": "ipython",
    "version": 3
   },
   "file_extension": ".py",
   "mimetype": "text/x-python",
   "name": "python",
   "nbconvert_exporter": "python",
   "pygments_lexer": "ipython3",
   "version": "3.12.3"
  }
 },
 "nbformat": 4,
 "nbformat_minor": 5
}
