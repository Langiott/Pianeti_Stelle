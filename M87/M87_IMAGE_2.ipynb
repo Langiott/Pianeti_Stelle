{
 "cells": [
  {
   "cell_type": "markdown",
   "id": "92486156-c9a1-429a-975a-68a1b5dcbeaf",
   "metadata": {},
   "source": [
    "Prava di manipolazione dei risulati dello studio \"Riproducibilità dell'immagine del buco nero M87\", il codice al momento non è funzionante , poichè non si puo scaricare la libreria ethim , necessaria, in ambiente windows-like. La possibile soluzione o di creare una macchina virtuale Linux-like , scaricare jupyter creare un env condiviso nel host ma troppo lungo da attuare, oppure usare Windows Subsystem Linux. Alternativa molto pratica , mi è stata data da un membro del prgetto della Caltech , utilizzando un altra libreria. Vedi Ehtim-tutorial-M87. "
   ]
  },
  {
   "cell_type": "code",
   "execution_count": 1,
   "id": "8f6bcb7f-6c7f-440b-979e-f7a51bbfd21d",
   "metadata": {},
   "outputs": [
    {
     "name": "stdout",
     "output_type": "stream",
     "text": [
      "C:\\Users\\andre\\Desktop\\PIANETI_STELLE\\M87\n"
     ]
    }
   ],
   "source": [
    "import os\n",
    "print(os.getcwd())\n",
    "# 😊"
   ]
  },
  {
   "cell_type": "code",
   "execution_count": 2,
   "id": "342d6e51-5440-4fba-b32c-0f3f34f9ee91",
   "metadata": {},
   "outputs": [
    {
     "data": {
      "text/html": [
       "<div>\n",
       "<style scoped>\n",
       "    .dataframe tbody tr th:only-of-type {\n",
       "        vertical-align: middle;\n",
       "    }\n",
       "\n",
       "    .dataframe tbody tr th {\n",
       "        vertical-align: top;\n",
       "    }\n",
       "\n",
       "    .dataframe thead th {\n",
       "        text-align: right;\n",
       "    }\n",
       "</style>\n",
       "<table border=\"1\" class=\"dataframe\">\n",
       "  <thead>\n",
       "    <tr style=\"text-align: right;\">\n",
       "      <th></th>\n",
       "      <th></th>\n",
       "      <th></th>\n",
       "      <th></th>\n",
       "      <th></th>\n",
       "      <th>#SRC:M87</th>\n",
       "      <th>DATE(MJD):57848</th>\n",
       "      <th>FREQ:229.0707GHz</th>\n",
       "    </tr>\n",
       "  </thead>\n",
       "  <tbody>\n",
       "    <tr>\n",
       "      <th>#time(UTC)</th>\n",
       "      <th>T1</th>\n",
       "      <th>T2</th>\n",
       "      <th>U(lambda)</th>\n",
       "      <th>V(lambda)</th>\n",
       "      <td>Iamp(Jy)</td>\n",
       "      <td>Iphase(d)</td>\n",
       "      <td>Isigma(Jy)</td>\n",
       "    </tr>\n",
       "    <tr>\n",
       "      <th rowspan=\"4\" valign=\"top\">00.76805556</th>\n",
       "      <th rowspan=\"3\" valign=\"top\">AA</th>\n",
       "      <th>LM</th>\n",
       "      <th>1081709696.0000</th>\n",
       "      <th>-3833722368.0000</th>\n",
       "      <td>0.01429205</td>\n",
       "      <td>-118.9454</td>\n",
       "      <td>0.00584681</td>\n",
       "    </tr>\n",
       "    <tr>\n",
       "      <th>PV</th>\n",
       "      <th>-4399932928.0000</th>\n",
       "      <th>-4509480448.0000</th>\n",
       "      <td>0.13673432</td>\n",
       "      <td>5.8638</td>\n",
       "      <td>0.00496755</td>\n",
       "    </tr>\n",
       "    <tr>\n",
       "      <th>AP</th>\n",
       "      <th>834908.8125</th>\n",
       "      <th>-1722271.0000</th>\n",
       "      <td>1.11977953</td>\n",
       "      <td>58.1095</td>\n",
       "      <td>0.00524299</td>\n",
       "    </tr>\n",
       "    <tr>\n",
       "      <th>AP</th>\n",
       "      <th>LM</th>\n",
       "      <th>1080840064.0000</th>\n",
       "      <th>-3832004096.0000</th>\n",
       "      <td>0.01844797</td>\n",
       "      <td>-137.6802</td>\n",
       "      <td>0.04457572</td>\n",
       "    </tr>\n",
       "  </tbody>\n",
       "</table>\n",
       "</div>"
      ],
      "text/plain": [
       "                                                       #SRC:M87  \\\n",
       "#time(UTC)  T1 T2 U(lambda)        V(lambda)           Iamp(Jy)   \n",
       "00.76805556 AA LM 1081709696.0000  -3833722368.0000  0.01429205   \n",
       "               PV -4399932928.0000 -4509480448.0000  0.13673432   \n",
       "               AP 834908.8125      -1722271.0000     1.11977953   \n",
       "            AP LM 1080840064.0000  -3832004096.0000  0.01844797   \n",
       "\n",
       "                                                    DATE(MJD):57848  \\\n",
       "#time(UTC)  T1 T2 U(lambda)        V(lambda)              Iphase(d)   \n",
       "00.76805556 AA LM 1081709696.0000  -3833722368.0000       -118.9454   \n",
       "               PV -4399932928.0000 -4509480448.0000          5.8638   \n",
       "               AP 834908.8125      -1722271.0000            58.1095   \n",
       "            AP LM 1080840064.0000  -3832004096.0000       -137.6802   \n",
       "\n",
       "                                                    FREQ:229.0707GHz  \n",
       "#time(UTC)  T1 T2 U(lambda)        V(lambda)              Isigma(Jy)  \n",
       "00.76805556 AA LM 1081709696.0000  -3833722368.0000       0.00584681  \n",
       "               PV -4399932928.0000 -4509480448.0000       0.00496755  \n",
       "               AP 834908.8125      -1722271.0000          0.00524299  \n",
       "            AP LM 1080840064.0000  -3832004096.0000       0.04457572  "
      ]
     },
     "execution_count": 2,
     "metadata": {},
     "output_type": "execute_result"
    }
   ],
   "source": [
    "import pandas as pd\n",
    "\n",
    "# Sostituisci 'nome_del_file.csv' con il percorso del tuo file CSV\n",
    "file_path = './EHTC_FirstM87Results_Apr2019_CSV/csv/SR1_M87_2017_095_hi_hops_netcal_StokesI.csv'\n",
    "\n",
    "# Carica il file CSV in un DataFrame di pandas\n",
    "df = pd.read_csv(file_path)\n",
    "\n",
    "# Visualizza le prime righe per verificare se il file è stato caricato correttamente\n",
    "df.head()"
   ]
  },
  {
   "cell_type": "code",
   "execution_count": 3,
   "id": "58f0d431-fff3-4ee8-bfb7-45df3216ab6c",
   "metadata": {},
   "outputs": [
    {
     "name": "stdout",
     "output_type": "stream",
     "text": [
      "<class 'pandas.core.frame.DataFrame'>\n",
      "MultiIndex: 6459 entries, ('#time(UTC)', 'T1', 'T2', 'U(lambda)', 'V(lambda)') to ('08.16527796', 'LM', 'SM', '4470521856.0000', '-32856334.0000')\n",
      "Data columns (total 3 columns):\n",
      " #   Column            Non-Null Count  Dtype \n",
      "---  ------            --------------  ----- \n",
      " 0   #SRC:M87          6459 non-null   object\n",
      " 1   DATE(MJD):57848   6459 non-null   object\n",
      " 2   FREQ:229.0707GHz  6459 non-null   object\n",
      "dtypes: object(3)\n",
      "memory usage: 841.1+ KB\n",
      "None\n",
      "                                                       #SRC:M87  \\\n",
      "#time(UTC)  T1 T2 U(lambda)        V(lambda)           Iamp(Jy)   \n",
      "00.76805556 AA LM 1081709696.0000  -3833722368.0000  0.01429205   \n",
      "               PV -4399932928.0000 -4509480448.0000  0.13673432   \n",
      "               AP 834908.8125      -1722271.0000     1.11977953   \n",
      "            AP LM 1080840064.0000  -3832004096.0000  0.01844797   \n",
      "\n",
      "                                                    DATE(MJD):57848  \\\n",
      "#time(UTC)  T1 T2 U(lambda)        V(lambda)              Iphase(d)   \n",
      "00.76805556 AA LM 1081709696.0000  -3833722368.0000       -118.9454   \n",
      "               PV -4399932928.0000 -4509480448.0000          5.8638   \n",
      "               AP 834908.8125      -1722271.0000            58.1095   \n",
      "            AP LM 1080840064.0000  -3832004096.0000       -137.6802   \n",
      "\n",
      "                                                    FREQ:229.0707GHz  \n",
      "#time(UTC)  T1 T2 U(lambda)        V(lambda)              Isigma(Jy)  \n",
      "00.76805556 AA LM 1081709696.0000  -3833722368.0000       0.00584681  \n",
      "               PV -4399932928.0000 -4509480448.0000       0.00496755  \n",
      "               AP 834908.8125      -1722271.0000          0.00524299  \n",
      "            AP LM 1080840064.0000  -3832004096.0000       0.04457572  \n"
     ]
    }
   ],
   "source": [
    "print(df.info())  # Mostra informazioni sul DataFrame, incluso il tipo di dati\n",
    "print(df.head())  # Visualizza le prime righe"
   ]
  },
  {
   "cell_type": "code",
   "execution_count": null,
   "id": "d26f95c5-5b22-4a06-85ac-f531cf809bfc",
   "metadata": {},
   "outputs": [],
   "source": [
    "# Converti una colonna specifica in numerico\n",
    "df['FREQ:229.0707GHz'] = pd.to_numeric(df['FREQ:229.0707GHz'], errors='coerce')\n",
    "\n",
    "# Rimuovi righe non numeriche\n",
    "df = df.dropna(subset=['FREQ:229.0707GHz'])"
   ]
  },
  {
   "cell_type": "code",
   "execution_count": null,
   "id": "6f7cfa7d-e2ff-446c-9e07-ee4dad1498c4",
   "metadata": {},
   "outputs": [],
   "source": [
    "df.info()\n",
    "image_data = df.values\n",
    "print(image_data.shape)"
   ]
  },
  {
   "cell_type": "code",
   "execution_count": null,
   "id": "edbdc0a3-5a85-4673-8009-36dbf41b567b",
   "metadata": {},
   "outputs": [],
   "source": [
    "# Trasforma in una matrice (esempio con 80x80)\n",
    "try:\n",
    "    image_data = df['FREQ:229.0707GHz'].values.reshape((80, 80))\n",
    "except ValueError as e:\n",
    "    print(f\"Errore nel reshaping: {e}. Controlla che i dati siano della giusta lunghezza.\")\n",
    "\n",
    "# Visualizza come immagine\n",
    "plt.imshow(image_data, cmap='gray')\n",
    "plt.colorbar()\n",
    "plt.show()"
   ]
  },
  {
   "cell_type": "code",
   "execution_count": 5,
   "id": "0f3d74e3-83f4-48c6-a472-122654397175",
   "metadata": {},
   "outputs": [],
   "source": [
    "df= df['FREQ:229.0707GHz']"
   ]
  },
  {
   "cell_type": "code",
   "execution_count": 6,
   "id": "64c69ecc-7cca-4b0a-ac21-9558341a154e",
   "metadata": {},
   "outputs": [
    {
     "name": "stdout",
     "output_type": "stream",
     "text": [
      "<class 'pandas.core.series.Series'>\n",
      "MultiIndex: 6459 entries, ('#time(UTC)', 'T1', 'T2', 'U(lambda)', 'V(lambda)') to ('08.16527796', 'LM', 'SM', '4470521856.0000', '-32856334.0000')\n",
      "Series name: FREQ:229.0707GHz\n",
      "Non-Null Count  Dtype \n",
      "--------------  ----- \n",
      "6459 non-null   object\n",
      "dtypes: object(1)\n",
      "memory usage: 740.2+ KB\n"
     ]
    }
   ],
   "source": [
    "df.info()"
   ]
  },
  {
   "cell_type": "code",
   "execution_count": 7,
   "id": "d23a3db0-8c8c-4f71-99b2-7782e57ededc",
   "metadata": {},
   "outputs": [
    {
     "data": {
      "text/plain": [
       "#time(UTC)   T1  T2  U(lambda)         V(lambda)           Isigma(Jy)\n",
       "00.76805556  AA  LM  1081709696.0000   -3833722368.0000    0.00584681\n",
       "                 PV  -4399932928.0000  -4509480448.0000    0.00496755\n",
       "                 AP  834908.8125       -1722271.0000       0.00524299\n",
       "             AP  LM  1080840064.0000   -3832004096.0000    0.04457572\n",
       "Name: FREQ:229.0707GHz, dtype: object"
      ]
     },
     "execution_count": 7,
     "metadata": {},
     "output_type": "execute_result"
    }
   ],
   "source": [
    "df.head()"
   ]
  },
  {
   "cell_type": "code",
   "execution_count": 32,
   "id": "79deed22-3304-481e-8950-a9a25ffd2e50",
   "metadata": {},
   "outputs": [
    {
     "name": "stdout",
     "output_type": "stream",
     "text": [
      "<class 'pandas.core.series.Series'>\n",
      "MultiIndex: 1 entries, ('T1', 'T2', 'U(lambda)', 'V(lambda)') to ('T1', 'T2', 'U(lambda)', 'V(lambda)')\n",
      "Series name: FREQ:229.0707GHz\n",
      "Non-Null Count  Dtype \n",
      "--------------  ----- \n",
      "1 non-null      object\n",
      "dtypes: object(1)\n",
      "memory usage: 617.6+ KB\n"
     ]
    }
   ],
   "source": [
    "df['#time(UTC)'].info()"
   ]
  },
  {
   "cell_type": "code",
   "execution_count": 36,
   "id": "9b67dd27-3b21-494e-a312-59c2d2c69da3",
   "metadata": {},
   "outputs": [
    {
     "data": {
      "text/plain": [
       "T1  T2  U(lambda)  V(lambda)    Isigma(Jy)\n",
       "Name: FREQ:229.0707GHz, dtype: object"
      ]
     },
     "execution_count": 36,
     "metadata": {},
     "output_type": "execute_result"
    }
   ],
   "source": [
    "df['#time(UTC)']"
   ]
  },
  {
   "cell_type": "code",
   "execution_count": 50,
   "id": "f9f4a108-8f22-4f9b-b8c4-79ff7f579a74",
   "metadata": {
    "collapsed": true,
    "jupyter": {
     "outputs_hidden": true
    },
    "scrolled": true
   },
   "outputs": [
    {
     "name": "stdout",
     "output_type": "stream",
     "text": [
      "MultiIndex([( '#time(UTC)', 'T1', 'T2',        'U(lambda)', ...),\n",
      "            ('00.76805556', 'AA', 'LM',  '1081709696.0000', ...),\n",
      "            ('00.76805556', 'AA', 'PV', '-4399932928.0000', ...),\n",
      "            ('00.76805556', 'AA', 'AP',      '834908.8125', ...),\n",
      "            ('00.76805556', 'AP', 'LM',  '1080840064.0000', ...),\n",
      "            ('00.76805556', 'AP', 'PV', '-4400756736.0000', ...),\n",
      "            ('00.76805556', 'LM', 'PV', '-5481641472.0000', ...),\n",
      "            ('00.77083334', 'AA', 'AP',      '834743.8750', ...),\n",
      "            ('00.77083334', 'AA', 'LM',  '1083169792.0000', ...),\n",
      "            ('00.77083334', 'AA', 'PV', '-4400603136.0000', ...),\n",
      "            ...\n",
      "            ('08.16527796', 'AP', 'LM',  '1526906368.0000', ...),\n",
      "            ('08.16527796', 'AP', 'SM',  '5997417472.0000', ...),\n",
      "            ('08.16527796', 'AP', 'JC',  '5997411328.0000', ...),\n",
      "            ('08.16527796', 'AP', 'AZ',  '2605210624.0000', ...),\n",
      "            ('08.16527796', 'AZ', 'SM',  '3392197120.0000', ...),\n",
      "            ('08.16527796', 'AZ', 'LM', '-1078323840.0000', ...),\n",
      "            ('08.16527796', 'AZ', 'JC',  '3392179968.0000', ...),\n",
      "            ('08.16527796', 'JC', 'LM', '-4470504448.0000', ...),\n",
      "            ('08.16527796', 'JC', 'SM',       '17457.3457', ...),\n",
      "            ('08.16527796', 'LM', 'SM',  '4470521856.0000', ...)],\n",
      "           length=6459)\n"
     ]
    }
   ],
   "source": [
    "print(df.index)"
   ]
  },
  {
   "cell_type": "code",
   "execution_count": 65,
   "id": "3e36f9fb-87f5-474b-9032-6fd0c3fa8935",
   "metadata": {},
   "outputs": [],
   "source": [
    "first_level = df.index.get_level_values(0)"
   ]
  },
  {
   "cell_type": "code",
   "execution_count": 68,
   "id": "be283d4d-b3fd-4d66-8168-380e748e99b8",
   "metadata": {},
   "outputs": [
    {
     "data": {
      "text/plain": [
       "Index(['#time(UTC)', '00.76805556', '00.76805556', '00.76805556',\n",
       "       '00.76805556', '00.76805556', '00.76805556', '00.77083334',\n",
       "       '00.77083334', '00.77083334',\n",
       "       ...\n",
       "       '08.16527796', '08.16527796', '08.16527796', '08.16527796',\n",
       "       '08.16527796', '08.16527796', '08.16527796', '08.16527796',\n",
       "       '08.16527796', '08.16527796'],\n",
       "      dtype='object', length=6459)"
      ]
     },
     "execution_count": 68,
     "metadata": {},
     "output_type": "execute_result"
    }
   ],
   "source": [
    "first_level"
   ]
  },
  {
   "cell_type": "code",
   "execution_count": 69,
   "id": "a05d3db3-5c84-4b4f-8f24-447f2dcfd949",
   "metadata": {},
   "outputs": [
    {
     "data": {
      "text/plain": [
       "Index(['T1', 'AA', 'AA', 'AA', 'AP', 'AP', 'LM', 'AA', 'AA', 'AA',\n",
       "       ...\n",
       "       'AP', 'AP', 'AP', 'AP', 'AZ', 'AZ', 'AZ', 'JC', 'JC', 'LM'],\n",
       "      dtype='object', length=6459)"
      ]
     },
     "execution_count": 69,
     "metadata": {},
     "output_type": "execute_result"
    }
   ],
   "source": [
    "second_level = df.index.get_level_values(1)\n",
    "second_level"
   ]
  },
  {
   "cell_type": "code",
   "execution_count": 70,
   "id": "d70429dc-4815-40d6-9423-c3ac4c946cca",
   "metadata": {},
   "outputs": [
    {
     "data": {
      "text/plain": [
       "Index(['T2', 'LM', 'PV', 'AP', 'LM', 'PV', 'PV', 'AP', 'LM', 'PV',\n",
       "       ...\n",
       "       'LM', 'SM', 'JC', 'AZ', 'SM', 'LM', 'JC', 'LM', 'SM', 'SM'],\n",
       "      dtype='object', length=6459)"
      ]
     },
     "execution_count": 70,
     "metadata": {},
     "output_type": "execute_result"
    }
   ],
   "source": [
    "terzo_level = df.index.get_level_values(2)\n",
    "terzo_level "
   ]
  },
  {
   "cell_type": "code",
   "execution_count": 71,
   "id": "cf79d449-da60-4a1a-9d25-0b9a35241d52",
   "metadata": {},
   "outputs": [
    {
     "data": {
      "text/plain": [
       "Index(['U(lambda)', '1081709696.0000', '-4399932928.0000', '834908.8125',\n",
       "       '1080840064.0000', '-4400756736.0000', '-5481641472.0000',\n",
       "       '834743.8750', '1083169792.0000', '-4400603136.0000',\n",
       "       ...\n",
       "       '1526906368.0000', '5997417472.0000', '5997411328.0000',\n",
       "       '2605210624.0000', '3392197120.0000', '-1078323840.0000',\n",
       "       '3392179968.0000', '-4470504448.0000', '17457.3457', '4470521856.0000'],\n",
       "      dtype='object', length=6459)"
      ]
     },
     "execution_count": 71,
     "metadata": {},
     "output_type": "execute_result"
    }
   ],
   "source": [
    "quarto_level = df.index.get_level_values(3)\n",
    "quarto_level "
   ]
  },
  {
   "cell_type": "code",
   "execution_count": 72,
   "id": "2eb3c6f3-98d6-4c74-a208-6ce9dfd4e747",
   "metadata": {},
   "outputs": [
    {
     "data": {
      "text/plain": [
       "Index(['V(lambda)', '-3833722368.0000', '-4509480448.0000', '-1722271.0000',\n",
       "       '-3832004096.0000', '-4507746816.0000', '-675769152.0000',\n",
       "       '-1722149.8750', '-3833557760.0000', '-4510170112.0000',\n",
       "       ...\n",
       "       '-3013817344.0000', '-3046676480.0000', '-3046564864.0000',\n",
       "       '-4043408640.0000', '996739648.0000', '1029597312.0000',\n",
       "       '996857920.0000', '32737106.0000', '-119228.2266', '-32856334.0000'],\n",
       "      dtype='object', length=6459)"
      ]
     },
     "execution_count": 72,
     "metadata": {},
     "output_type": "execute_result"
    }
   ],
   "source": [
    "quinto_level = df.index.get_level_values(4)\n",
    "quinto_level "
   ]
  },
  {
   "cell_type": "code",
   "execution_count": 74,
   "id": "01f2e122-f016-4549-b514-2a5761ca45cd",
   "metadata": {},
   "outputs": [],
   "source": [
    "# Trasformare il livello estratto in un DataFrame\n",
    "df_quinto_level = pd.DataFrame(quinto_level, columns=['V'])"
   ]
  },
  {
   "cell_type": "code",
   "execution_count": 75,
   "id": "0aa03a5f-0bf1-4e26-b6bb-cba2339f8680",
   "metadata": {},
   "outputs": [],
   "source": [
    "# Trasformare il livello estratto in un DataFrame\n",
    "df_quarto_level = pd.DataFrame(quarto_level, columns=['U'])"
   ]
  },
  {
   "cell_type": "code",
   "execution_count": 76,
   "id": "92a20f40-fcce-4df0-8eb1-313ba8f1c44a",
   "metadata": {},
   "outputs": [
    {
     "data": {
      "text/html": [
       "<div>\n",
       "<style scoped>\n",
       "    .dataframe tbody tr th:only-of-type {\n",
       "        vertical-align: middle;\n",
       "    }\n",
       "\n",
       "    .dataframe tbody tr th {\n",
       "        vertical-align: top;\n",
       "    }\n",
       "\n",
       "    .dataframe thead th {\n",
       "        text-align: right;\n",
       "    }\n",
       "</style>\n",
       "<table border=\"1\" class=\"dataframe\">\n",
       "  <thead>\n",
       "    <tr style=\"text-align: right;\">\n",
       "      <th></th>\n",
       "      <th>V</th>\n",
       "      <th>U</th>\n",
       "    </tr>\n",
       "  </thead>\n",
       "  <tbody>\n",
       "    <tr>\n",
       "      <th>0</th>\n",
       "      <td>V(lambda)</td>\n",
       "      <td>U(lambda)</td>\n",
       "    </tr>\n",
       "    <tr>\n",
       "      <th>1</th>\n",
       "      <td>-3833722368.0000</td>\n",
       "      <td>1081709696.0000</td>\n",
       "    </tr>\n",
       "    <tr>\n",
       "      <th>2</th>\n",
       "      <td>-4509480448.0000</td>\n",
       "      <td>-4399932928.0000</td>\n",
       "    </tr>\n",
       "    <tr>\n",
       "      <th>3</th>\n",
       "      <td>-1722271.0000</td>\n",
       "      <td>834908.8125</td>\n",
       "    </tr>\n",
       "    <tr>\n",
       "      <th>4</th>\n",
       "      <td>-3832004096.0000</td>\n",
       "      <td>1080840064.0000</td>\n",
       "    </tr>\n",
       "    <tr>\n",
       "      <th>...</th>\n",
       "      <td>...</td>\n",
       "      <td>...</td>\n",
       "    </tr>\n",
       "    <tr>\n",
       "      <th>6454</th>\n",
       "      <td>1029597312.0000</td>\n",
       "      <td>-1078323840.0000</td>\n",
       "    </tr>\n",
       "    <tr>\n",
       "      <th>6455</th>\n",
       "      <td>996857920.0000</td>\n",
       "      <td>3392179968.0000</td>\n",
       "    </tr>\n",
       "    <tr>\n",
       "      <th>6456</th>\n",
       "      <td>32737106.0000</td>\n",
       "      <td>-4470504448.0000</td>\n",
       "    </tr>\n",
       "    <tr>\n",
       "      <th>6457</th>\n",
       "      <td>-119228.2266</td>\n",
       "      <td>17457.3457</td>\n",
       "    </tr>\n",
       "    <tr>\n",
       "      <th>6458</th>\n",
       "      <td>-32856334.0000</td>\n",
       "      <td>4470521856.0000</td>\n",
       "    </tr>\n",
       "  </tbody>\n",
       "</table>\n",
       "<p>6459 rows × 2 columns</p>\n",
       "</div>"
      ],
      "text/plain": [
       "                     V                 U\n",
       "0            V(lambda)         U(lambda)\n",
       "1     -3833722368.0000   1081709696.0000\n",
       "2     -4509480448.0000  -4399932928.0000\n",
       "3        -1722271.0000       834908.8125\n",
       "4     -3832004096.0000   1080840064.0000\n",
       "...                ...               ...\n",
       "6454   1029597312.0000  -1078323840.0000\n",
       "6455    996857920.0000   3392179968.0000\n",
       "6456     32737106.0000  -4470504448.0000\n",
       "6457      -119228.2266        17457.3457\n",
       "6458    -32856334.0000   4470521856.0000\n",
       "\n",
       "[6459 rows x 2 columns]"
      ]
     },
     "execution_count": 76,
     "metadata": {},
     "output_type": "execute_result"
    }
   ],
   "source": [
    "df= pd.concat([df_quinto_level, df_quarto_level], axis=1)\n",
    "df"
   ]
  },
  {
   "cell_type": "code",
   "execution_count": 79,
   "id": "919cac0d-dbab-4f7d-bb66-49ae9809ea02",
   "metadata": {},
   "outputs": [
    {
     "name": "stdout",
     "output_type": "stream",
     "text": [
      "V    V(lambda)\n",
      "U    U(lambda)\n",
      "Name: 0, dtype: object\n"
     ]
    }
   ],
   "source": [
    "print(df.iloc[0])"
   ]
  },
  {
   "cell_type": "code",
   "execution_count": 80,
   "id": "99c336e4-0842-44d1-a338-49f3e8c51d44",
   "metadata": {},
   "outputs": [
    {
     "name": "stdout",
     "output_type": "stream",
     "text": [
      "V    -3833722368.0000\n",
      "U     1081709696.0000\n",
      "Name: 1, dtype: object\n"
     ]
    }
   ],
   "source": [
    "print(df.iloc[1])"
   ]
  },
  {
   "cell_type": "code",
   "execution_count": 82,
   "id": "71e0c46e-cc74-4b2f-ad66-f8564a770958",
   "metadata": {},
   "outputs": [],
   "source": [
    "u = df[\"U\"]\n",
    "v = df[\"V\"]"
   ]
  },
  {
   "cell_type": "code",
   "execution_count": 84,
   "id": "2d72222a-b965-4b4d-8b2e-9ae44917c2cf",
   "metadata": {},
   "outputs": [
    {
     "data": {
      "image/png": "[encoded data removed]",
      "text/plain": [
       "<Figure size 800x600 with 1 Axes>"
      ]
     },
     "metadata": {},
     "output_type": "display_data"
    }
   ],
   "source": [
    "import pandas as pd\n",
    "import numpy as np\n",
    "import matplotlib.pyplot as plt\n",
    "\n",
    "# Plot del piano UV\n",
    "plt.figure(figsize=(8, 6))\n",
    "plt.scatter(u, v, s=1, alpha=0.5)\n",
    "plt.xlabel('U (lambda)')\n",
    "plt.ylabel('V (lambda)')\n",
    "plt.title('UV Coverage of M87 EHT Data')\n",
    "plt.grid(True)\n",
    "plt.show()"
   ]
  },
  {
   "cell_type": "code",
   "execution_count": 86,
   "id": "1677448f-6a61-4689-840b-151f524ebff0",
   "metadata": {},
   "outputs": [
    {
     "ename": "ValueError",
     "evalue": "could not convert string to float: 'U(lambda)'",
     "output_type": "error",
     "traceback": [
      "\u001b[1;31m---------------------------------------------------------------------------\u001b[0m",
      "\u001b[1;31mValueError\u001b[0m                                Traceback (most recent call last)",
      "Cell \u001b[1;32mIn[86], line 14\u001b[0m\n\u001b[0;32m     12\u001b[0m \u001b[38;5;66;03m# Step 2: Applichiamo la SVD (decomposizione in valori singolari)\u001b[39;00m\n\u001b[0;32m     13\u001b[0m svd \u001b[38;5;241m=\u001b[39m TruncatedSVD(n_components\u001b[38;5;241m=\u001b[39m\u001b[38;5;241m2\u001b[39m)  \u001b[38;5;66;03m# Manteniamo due componenti principali\u001b[39;00m\n\u001b[1;32m---> 14\u001b[0m X_reduced \u001b[38;5;241m=\u001b[39m \u001b[43msvd\u001b[49m\u001b[38;5;241;43m.\u001b[39;49m\u001b[43mfit_transform\u001b[49m\u001b[43m(\u001b[49m\u001b[43mX\u001b[49m\u001b[43m)\u001b[49m\n\u001b[0;32m     16\u001b[0m \u001b[38;5;66;03m# Step 3: Ricostruzione dell'immagine dal piano UV\u001b[39;00m\n\u001b[0;32m     17\u001b[0m \n\u001b[0;32m     18\u001b[0m \u001b[38;5;66;03m# Creiamo una matrice del piano UV (dimensioni 256x256 per esempio)\u001b[39;00m\n\u001b[0;32m     19\u001b[0m uv_size \u001b[38;5;241m=\u001b[39m \u001b[38;5;241m256\u001b[39m\n",
      "File \u001b[1;32m~\\AppData\\Local\\Programs\\Python\\Python312\\Lib\\site-packages\\sklearn\\utils\\_set_output.py:316\u001b[0m, in \u001b[0;36m_wrap_method_output.<locals>.wrapped\u001b[1;34m(self, X, *args, **kwargs)\u001b[0m\n\u001b[0;32m    314\u001b[0m \u001b[38;5;129m@wraps\u001b[39m(f)\n\u001b[0;32m    315\u001b[0m \u001b[38;5;28;01mdef\u001b[39;00m \u001b[38;5;21mwrapped\u001b[39m(\u001b[38;5;28mself\u001b[39m, X, \u001b[38;5;241m*\u001b[39margs, \u001b[38;5;241m*\u001b[39m\u001b[38;5;241m*\u001b[39mkwargs):\n\u001b[1;32m--> 316\u001b[0m     data_to_wrap \u001b[38;5;241m=\u001b[39m \u001b[43mf\u001b[49m\u001b[43m(\u001b[49m\u001b[38;5;28;43mself\u001b[39;49m\u001b[43m,\u001b[49m\u001b[43m \u001b[49m\u001b[43mX\u001b[49m\u001b[43m,\u001b[49m\u001b[43m \u001b[49m\u001b[38;5;241;43m*\u001b[39;49m\u001b[43margs\u001b[49m\u001b[43m,\u001b[49m\u001b[43m \u001b[49m\u001b[38;5;241;43m*\u001b[39;49m\u001b[38;5;241;43m*\u001b[39;49m\u001b[43mkwargs\u001b[49m\u001b[43m)\u001b[49m\n\u001b[0;32m    317\u001b[0m     \u001b[38;5;28;01mif\u001b[39;00m \u001b[38;5;28misinstance\u001b[39m(data_to_wrap, \u001b[38;5;28mtuple\u001b[39m):\n\u001b[0;32m    318\u001b[0m         \u001b[38;5;66;03m# only wrap the first output for cross decomposition\u001b[39;00m\n\u001b[0;32m    319\u001b[0m         return_tuple \u001b[38;5;241m=\u001b[39m (\n\u001b[0;32m    320\u001b[0m             _wrap_data_with_container(method, data_to_wrap[\u001b[38;5;241m0\u001b[39m], X, \u001b[38;5;28mself\u001b[39m),\n\u001b[0;32m    321\u001b[0m             \u001b[38;5;241m*\u001b[39mdata_to_wrap[\u001b[38;5;241m1\u001b[39m:],\n\u001b[0;32m    322\u001b[0m         )\n",
      "File \u001b[1;32m~\\AppData\\Local\\Programs\\Python\\Python312\\Lib\\site-packages\\sklearn\\base.py:1473\u001b[0m, in \u001b[0;36m_fit_context.<locals>.decorator.<locals>.wrapper\u001b[1;34m(estimator, *args, **kwargs)\u001b[0m\n\u001b[0;32m   1466\u001b[0m     estimator\u001b[38;5;241m.\u001b[39m_validate_params()\n\u001b[0;32m   1468\u001b[0m \u001b[38;5;28;01mwith\u001b[39;00m config_context(\n\u001b[0;32m   1469\u001b[0m     skip_parameter_validation\u001b[38;5;241m=\u001b[39m(\n\u001b[0;32m   1470\u001b[0m         prefer_skip_nested_validation \u001b[38;5;129;01mor\u001b[39;00m global_skip_validation\n\u001b[0;32m   1471\u001b[0m     )\n\u001b[0;32m   1472\u001b[0m ):\n\u001b[1;32m-> 1473\u001b[0m     \u001b[38;5;28;01mreturn\u001b[39;00m \u001b[43mfit_method\u001b[49m\u001b[43m(\u001b[49m\u001b[43mestimator\u001b[49m\u001b[43m,\u001b[49m\u001b[43m \u001b[49m\u001b[38;5;241;43m*\u001b[39;49m\u001b[43margs\u001b[49m\u001b[43m,\u001b[49m\u001b[43m \u001b[49m\u001b[38;5;241;43m*\u001b[39;49m\u001b[38;5;241;43m*\u001b[39;49m\u001b[43mkwargs\u001b[49m\u001b[43m)\u001b[49m\n",
      "File \u001b[1;32m~\\AppData\\Local\\Programs\\Python\\Python312\\Lib\\site-packages\\sklearn\\decomposition\\_truncated_svd.py:228\u001b[0m, in \u001b[0;36mTruncatedSVD.fit_transform\u001b[1;34m(self, X, y)\u001b[0m\n\u001b[0;32m    211\u001b[0m \u001b[38;5;129m@_fit_context\u001b[39m(prefer_skip_nested_validation\u001b[38;5;241m=\u001b[39m\u001b[38;5;28;01mTrue\u001b[39;00m)\n\u001b[0;32m    212\u001b[0m \u001b[38;5;28;01mdef\u001b[39;00m \u001b[38;5;21mfit_transform\u001b[39m(\u001b[38;5;28mself\u001b[39m, X, y\u001b[38;5;241m=\u001b[39m\u001b[38;5;28;01mNone\u001b[39;00m):\n\u001b[0;32m    213\u001b[0m \u001b[38;5;250m    \u001b[39m\u001b[38;5;124;03m\"\"\"Fit model to X and perform dimensionality reduction on X.\u001b[39;00m\n\u001b[0;32m    214\u001b[0m \n\u001b[0;32m    215\u001b[0m \u001b[38;5;124;03m    Parameters\u001b[39;00m\n\u001b[1;32m   (...)\u001b[0m\n\u001b[0;32m    226\u001b[0m \u001b[38;5;124;03m        Reduced version of X. This will always be a dense array.\u001b[39;00m\n\u001b[0;32m    227\u001b[0m \u001b[38;5;124;03m    \"\"\"\u001b[39;00m\n\u001b[1;32m--> 228\u001b[0m     X \u001b[38;5;241m=\u001b[39m \u001b[38;5;28;43mself\u001b[39;49m\u001b[38;5;241;43m.\u001b[39;49m\u001b[43m_validate_data\u001b[49m\u001b[43m(\u001b[49m\u001b[43mX\u001b[49m\u001b[43m,\u001b[49m\u001b[43m \u001b[49m\u001b[43maccept_sparse\u001b[49m\u001b[38;5;241;43m=\u001b[39;49m\u001b[43m[\u001b[49m\u001b[38;5;124;43m\"\u001b[39;49m\u001b[38;5;124;43mcsr\u001b[39;49m\u001b[38;5;124;43m\"\u001b[39;49m\u001b[43m,\u001b[49m\u001b[43m \u001b[49m\u001b[38;5;124;43m\"\u001b[39;49m\u001b[38;5;124;43mcsc\u001b[39;49m\u001b[38;5;124;43m\"\u001b[39;49m\u001b[43m]\u001b[49m\u001b[43m,\u001b[49m\u001b[43m \u001b[49m\u001b[43mensure_min_features\u001b[49m\u001b[38;5;241;43m=\u001b[39;49m\u001b[38;5;241;43m2\u001b[39;49m\u001b[43m)\u001b[49m\n\u001b[0;32m    229\u001b[0m     random_state \u001b[38;5;241m=\u001b[39m check_random_state(\u001b[38;5;28mself\u001b[39m\u001b[38;5;241m.\u001b[39mrandom_state)\n\u001b[0;32m    231\u001b[0m     \u001b[38;5;28;01mif\u001b[39;00m \u001b[38;5;28mself\u001b[39m\u001b[38;5;241m.\u001b[39malgorithm \u001b[38;5;241m==\u001b[39m \u001b[38;5;124m\"\u001b[39m\u001b[38;5;124marpack\u001b[39m\u001b[38;5;124m\"\u001b[39m:\n",
      "File \u001b[1;32m~\\AppData\\Local\\Programs\\Python\\Python312\\Lib\\site-packages\\sklearn\\base.py:633\u001b[0m, in \u001b[0;36mBaseEstimator._validate_data\u001b[1;34m(self, X, y, reset, validate_separately, cast_to_ndarray, **check_params)\u001b[0m\n\u001b[0;32m    631\u001b[0m         out \u001b[38;5;241m=\u001b[39m X, y\n\u001b[0;32m    632\u001b[0m \u001b[38;5;28;01melif\u001b[39;00m \u001b[38;5;129;01mnot\u001b[39;00m no_val_X \u001b[38;5;129;01mand\u001b[39;00m no_val_y:\n\u001b[1;32m--> 633\u001b[0m     out \u001b[38;5;241m=\u001b[39m \u001b[43mcheck_array\u001b[49m\u001b[43m(\u001b[49m\u001b[43mX\u001b[49m\u001b[43m,\u001b[49m\u001b[43m \u001b[49m\u001b[43minput_name\u001b[49m\u001b[38;5;241;43m=\u001b[39;49m\u001b[38;5;124;43m\"\u001b[39;49m\u001b[38;5;124;43mX\u001b[39;49m\u001b[38;5;124;43m\"\u001b[39;49m\u001b[43m,\u001b[49m\u001b[43m \u001b[49m\u001b[38;5;241;43m*\u001b[39;49m\u001b[38;5;241;43m*\u001b[39;49m\u001b[43mcheck_params\u001b[49m\u001b[43m)\u001b[49m\n\u001b[0;32m    634\u001b[0m \u001b[38;5;28;01melif\u001b[39;00m no_val_X \u001b[38;5;129;01mand\u001b[39;00m \u001b[38;5;129;01mnot\u001b[39;00m no_val_y:\n\u001b[0;32m    635\u001b[0m     out \u001b[38;5;241m=\u001b[39m _check_y(y, \u001b[38;5;241m*\u001b[39m\u001b[38;5;241m*\u001b[39mcheck_params)\n",
      "File \u001b[1;32m~\\AppData\\Local\\Programs\\Python\\Python312\\Lib\\site-packages\\sklearn\\utils\\validation.py:1012\u001b[0m, in \u001b[0;36mcheck_array\u001b[1;34m(array, accept_sparse, accept_large_sparse, dtype, order, copy, force_writeable, force_all_finite, ensure_2d, allow_nd, ensure_min_samples, ensure_min_features, estimator, input_name)\u001b[0m\n\u001b[0;32m   1010\u001b[0m         array \u001b[38;5;241m=\u001b[39m xp\u001b[38;5;241m.\u001b[39mastype(array, dtype, copy\u001b[38;5;241m=\u001b[39m\u001b[38;5;28;01mFalse\u001b[39;00m)\n\u001b[0;32m   1011\u001b[0m     \u001b[38;5;28;01melse\u001b[39;00m:\n\u001b[1;32m-> 1012\u001b[0m         array \u001b[38;5;241m=\u001b[39m \u001b[43m_asarray_with_order\u001b[49m\u001b[43m(\u001b[49m\u001b[43marray\u001b[49m\u001b[43m,\u001b[49m\u001b[43m \u001b[49m\u001b[43morder\u001b[49m\u001b[38;5;241;43m=\u001b[39;49m\u001b[43morder\u001b[49m\u001b[43m,\u001b[49m\u001b[43m \u001b[49m\u001b[43mdtype\u001b[49m\u001b[38;5;241;43m=\u001b[39;49m\u001b[43mdtype\u001b[49m\u001b[43m,\u001b[49m\u001b[43m \u001b[49m\u001b[43mxp\u001b[49m\u001b[38;5;241;43m=\u001b[39;49m\u001b[43mxp\u001b[49m\u001b[43m)\u001b[49m\n\u001b[0;32m   1013\u001b[0m \u001b[38;5;28;01mexcept\u001b[39;00m ComplexWarning \u001b[38;5;28;01mas\u001b[39;00m complex_warning:\n\u001b[0;32m   1014\u001b[0m     \u001b[38;5;28;01mraise\u001b[39;00m \u001b[38;5;167;01mValueError\u001b[39;00m(\n\u001b[0;32m   1015\u001b[0m         \u001b[38;5;124m\"\u001b[39m\u001b[38;5;124mComplex data not supported\u001b[39m\u001b[38;5;130;01m\\n\u001b[39;00m\u001b[38;5;132;01m{}\u001b[39;00m\u001b[38;5;130;01m\\n\u001b[39;00m\u001b[38;5;124m\"\u001b[39m\u001b[38;5;241m.\u001b[39mformat(array)\n\u001b[0;32m   1016\u001b[0m     ) \u001b[38;5;28;01mfrom\u001b[39;00m \u001b[38;5;21;01mcomplex_warning\u001b[39;00m\n",
      "File \u001b[1;32m~\\AppData\\Local\\Programs\\Python\\Python312\\Lib\\site-packages\\sklearn\\utils\\_array_api.py:745\u001b[0m, in \u001b[0;36m_asarray_with_order\u001b[1;34m(array, dtype, order, copy, xp, device)\u001b[0m\n\u001b[0;32m    743\u001b[0m     array \u001b[38;5;241m=\u001b[39m numpy\u001b[38;5;241m.\u001b[39marray(array, order\u001b[38;5;241m=\u001b[39morder, dtype\u001b[38;5;241m=\u001b[39mdtype)\n\u001b[0;32m    744\u001b[0m \u001b[38;5;28;01melse\u001b[39;00m:\n\u001b[1;32m--> 745\u001b[0m     array \u001b[38;5;241m=\u001b[39m \u001b[43mnumpy\u001b[49m\u001b[38;5;241;43m.\u001b[39;49m\u001b[43masarray\u001b[49m\u001b[43m(\u001b[49m\u001b[43marray\u001b[49m\u001b[43m,\u001b[49m\u001b[43m \u001b[49m\u001b[43morder\u001b[49m\u001b[38;5;241;43m=\u001b[39;49m\u001b[43morder\u001b[49m\u001b[43m,\u001b[49m\u001b[43m \u001b[49m\u001b[43mdtype\u001b[49m\u001b[38;5;241;43m=\u001b[39;49m\u001b[43mdtype\u001b[49m\u001b[43m)\u001b[49m\n\u001b[0;32m    747\u001b[0m \u001b[38;5;66;03m# At this point array is a NumPy ndarray. We convert it to an array\u001b[39;00m\n\u001b[0;32m    748\u001b[0m \u001b[38;5;66;03m# container that is consistent with the input's namespace.\u001b[39;00m\n\u001b[0;32m    749\u001b[0m \u001b[38;5;28;01mreturn\u001b[39;00m xp\u001b[38;5;241m.\u001b[39masarray(array)\n",
      "\u001b[1;31mValueError\u001b[0m: could not convert string to float: 'U(lambda)'"
     ]
    }
   ],
   "source": [
    "import numpy as np\n",
    "import matplotlib.pyplot as plt\n",
    "from scipy.fft import ifft2, fftshift\n",
    "from sklearn.decomposition import TruncatedSVD\n",
    "import pandas as pd\n",
    "\n",
    "\n",
    "\n",
    "# Step 1: Creiamo una matrice UV che simula la distribuzione nel piano UV\n",
    "X = df[['U', 'V']].values\n",
    "\n",
    "# Step 2: Applichiamo la SVD (decomposizione in valori singolari)\n",
    "svd = TruncatedSVD(n_components=2)  # Manteniamo due componenti principali\n",
    "X_reduced = svd.fit_transform(X)\n",
    "\n",
    "# Step 3: Ricostruzione dell'immagine dal piano UV\n",
    "\n",
    "# Creiamo una matrice del piano UV (dimensioni 256x256 per esempio)\n",
    "uv_size = 256\n",
    "uv_grid = np.zeros((uv_size, uv_size))\n",
    "\n",
    "# Mappiamo i dati ridotti nei pixel della matrice UV\n",
    "for i in range(X_reduced.shape[0]):\n",
    "    u_idx = int((X_reduced[i, 0] + 5) * (uv_size // 10))  # Map U a coordinate del piano\n",
    "    v_idx = int((X_reduced[i, 1] + 5) * (uv_size // 10))  # Map V a coordinate del piano\n",
    "    if u_idx < uv_size and v_idx < uv_size:\n",
    "        uv_grid[u_idx, v_idx] = 1  # Assegniamo un valore (per esempio 1)\n",
    "\n",
    "# Step 4: Applicare la Trasformata Inversa di Fourier (IFT) per ottenere l'immagine\n",
    "# Nota: Stiamo assumendo che i dati siano sufficientemente campionati, in pratica i dati UV sono incompleti\n",
    "image = np.abs(ifft2(fftshift(uv_grid)))\n",
    "\n",
    "# Step 5: Visualizzare l'immagine\n",
    "plt.imshow(image, cmap='gray')\n",
    "plt.title('Immagine Ricostruita')\n",
    "plt.colorbar()\n",
    "plt.show()"
   ]
  },
  {
   "cell_type": "code",
   "execution_count": null,
   "id": "69bc2004-eb68-4cd1-bc1b-a37f95b54d11",
   "metadata": {},
   "outputs": [],
   "source": []
  }
 ],
 "metadata": {
  "kernelspec": {
   "display_name": "Python 3 (ipykernel)",
   "language": "python",
   "name": "python3"
  },
  "language_info": {
   "codemirror_mode": {
    "name": "ipython",
    "version": 3
   },
   "file_extension": ".py",
   "mimetype": "text/x-python",
   "name": "python",
   "nbconvert_exporter": "python",
   "pygments_lexer": "ipython3",
   "version": "3.12.3"
  }
 },
 "nbformat": 4,
 "nbformat_minor": 5
}
